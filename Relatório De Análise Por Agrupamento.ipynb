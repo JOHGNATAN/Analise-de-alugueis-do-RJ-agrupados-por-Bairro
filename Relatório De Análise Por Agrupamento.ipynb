{
 "cells": [
  {
   "cell_type": "code",
   "execution_count": 3,
   "id": "70cc7280",
   "metadata": {},
   "outputs": [
    {
     "data": {
      "text/html": [
       "<div>\n",
       "<style scoped>\n",
       "    .dataframe tbody tr th:only-of-type {\n",
       "        vertical-align: middle;\n",
       "    }\n",
       "\n",
       "    .dataframe tbody tr th {\n",
       "        vertical-align: top;\n",
       "    }\n",
       "\n",
       "    .dataframe thead th {\n",
       "        text-align: right;\n",
       "    }\n",
       "</style>\n",
       "<table border=\"1\" class=\"dataframe\">\n",
       "  <thead>\n",
       "    <tr style=\"text-align: right;\">\n",
       "      <th></th>\n",
       "      <th>Tipo</th>\n",
       "      <th>Bairro</th>\n",
       "      <th>Quartos</th>\n",
       "      <th>Vagas</th>\n",
       "      <th>Suites</th>\n",
       "      <th>Area</th>\n",
       "      <th>Valor</th>\n",
       "      <th>Condominio</th>\n",
       "      <th>IPTU</th>\n",
       "      <th>Metro m2</th>\n",
       "      <th>Tipo Agregado</th>\n",
       "    </tr>\n",
       "  </thead>\n",
       "  <tbody>\n",
       "    <tr>\n",
       "      <th>0</th>\n",
       "      <td>Quitinete</td>\n",
       "      <td>Copacabana</td>\n",
       "      <td>1</td>\n",
       "      <td>0</td>\n",
       "      <td>0</td>\n",
       "      <td>40</td>\n",
       "      <td>1700.0</td>\n",
       "      <td>500.0</td>\n",
       "      <td>60.0</td>\n",
       "      <td>42.50</td>\n",
       "      <td>Apartamento</td>\n",
       "    </tr>\n",
       "    <tr>\n",
       "      <th>1</th>\n",
       "      <td>Casa</td>\n",
       "      <td>Jardim Botânico</td>\n",
       "      <td>2</td>\n",
       "      <td>0</td>\n",
       "      <td>1</td>\n",
       "      <td>100</td>\n",
       "      <td>7000.0</td>\n",
       "      <td>0.0</td>\n",
       "      <td>0.0</td>\n",
       "      <td>70.00</td>\n",
       "      <td>Casa</td>\n",
       "    </tr>\n",
       "    <tr>\n",
       "      <th>2</th>\n",
       "      <td>Conjunto Comercial/Sala</td>\n",
       "      <td>Barra da Tijuca</td>\n",
       "      <td>0</td>\n",
       "      <td>4</td>\n",
       "      <td>0</td>\n",
       "      <td>150</td>\n",
       "      <td>5200.0</td>\n",
       "      <td>4020.0</td>\n",
       "      <td>1111.0</td>\n",
       "      <td>34.67</td>\n",
       "      <td>Apartamento</td>\n",
       "    </tr>\n",
       "    <tr>\n",
       "      <th>3</th>\n",
       "      <td>Apartamento</td>\n",
       "      <td>Centro</td>\n",
       "      <td>1</td>\n",
       "      <td>0</td>\n",
       "      <td>0</td>\n",
       "      <td>15</td>\n",
       "      <td>800.0</td>\n",
       "      <td>390.0</td>\n",
       "      <td>20.0</td>\n",
       "      <td>53.33</td>\n",
       "      <td>Apartamento</td>\n",
       "    </tr>\n",
       "    <tr>\n",
       "      <th>4</th>\n",
       "      <td>Apartamento</td>\n",
       "      <td>Higienópolis</td>\n",
       "      <td>1</td>\n",
       "      <td>0</td>\n",
       "      <td>0</td>\n",
       "      <td>48</td>\n",
       "      <td>800.0</td>\n",
       "      <td>230.0</td>\n",
       "      <td>0.0</td>\n",
       "      <td>16.67</td>\n",
       "      <td>Apartamento</td>\n",
       "    </tr>\n",
       "  </tbody>\n",
       "</table>\n",
       "</div>"
      ],
      "text/plain": [
       "                      Tipo           Bairro  Quartos  Vagas  Suites  Area  \\\n",
       "0                Quitinete       Copacabana        1      0       0    40   \n",
       "1                     Casa  Jardim Botânico        2      0       1   100   \n",
       "2  Conjunto Comercial/Sala  Barra da Tijuca        0      4       0   150   \n",
       "3              Apartamento           Centro        1      0       0    15   \n",
       "4              Apartamento     Higienópolis        1      0       0    48   \n",
       "\n",
       "    Valor  Condominio    IPTU  Metro m2 Tipo Agregado  \n",
       "0  1700.0       500.0    60.0     42.50   Apartamento  \n",
       "1  7000.0         0.0     0.0     70.00          Casa  \n",
       "2  5200.0      4020.0  1111.0     34.67   Apartamento  \n",
       "3   800.0       390.0    20.0     53.33   Apartamento  \n",
       "4   800.0       230.0     0.0     16.67   Apartamento  "
      ]
     },
     "execution_count": 3,
     "metadata": {},
     "output_type": "execute_result"
    }
   ],
   "source": [
    "import pandas as pd \n",
    "dados= pd.read_csv(\"C:/Users/JOHGNATAN/OneDrive/Área de Trabalho/Python_Data_Science/base_de_dados_diversos/aluguel.csv\", sep = ';')\n",
    "dados.head(5)\n"
   ]
  },
  {
   "cell_type": "code",
   "execution_count": 4,
   "id": "0cc1e299",
   "metadata": {},
   "outputs": [
    {
     "data": {
      "text/plain": [
       "0           Copacabana\n",
       "2      Barra da Tijuca\n",
       "16            Botafogo\n",
       "21              Tijuca\n",
       "25              Leblon\n",
       "27             Ipanema\n",
       "110           Flamengo\n",
       "Name: Bairro, dtype: object"
      ]
     },
     "execution_count": 4,
     "metadata": {},
     "output_type": "execute_result"
    }
   ],
   "source": [
    "bairros = ['Copacabana','Ipanema','Barra da Tijuca','Leblon','Botafogo','Flamengo','Tijuca']\n",
    "\n",
    "selecao = dados['Bairro'].isin(bairros)\n",
    "dados = dados[selecao]\n",
    "dados['Bairro'].drop_duplicates()\n"
   ]
  },
  {
   "cell_type": "code",
   "execution_count": 5,
   "id": "3cd5949e",
   "metadata": {},
   "outputs": [
    {
     "name": "stdout",
     "output_type": "stream",
     "text": [
      "Barra da Tijuca\n",
      "Botafogo\n",
      "Copacabana\n",
      "Flamengo\n",
      "Ipanema\n",
      "Leblon\n",
      "Tijuca\n"
     ]
    }
   ],
   "source": [
    "grupo_bairro = dados.groupby('Bairro')\n",
    "\n",
    "for bairros, info in grupo_bairro:\n",
    "    print(bairros)"
   ]
  },
  {
   "cell_type": "code",
   "execution_count": 8,
   "id": "0960da31",
   "metadata": {},
   "outputs": [
    {
     "name": "stdout",
     "output_type": "stream",
     "text": [
      "Barra da Tijuca ->8793.691271551725\n",
      "Botafogo ->8793.691271551725\n",
      "Copacabana ->8793.691271551725\n",
      "Flamengo ->8793.691271551725\n",
      "Ipanema ->8793.691271551725\n",
      "Leblon ->8793.691271551725\n",
      "Tijuca ->8793.691271551725\n"
     ]
    }
   ],
   "source": [
    "for bairros, info in grupo_bairro:\n",
    "    print('{} ->{}'.format(bairros,dados['Valor'].mean()))"
   ]
  },
  {
   "cell_type": "code",
   "execution_count": 9,
   "id": "3207182e",
   "metadata": {},
   "outputs": [
    {
     "name": "stderr",
     "output_type": "stream",
     "text": [
      "C:\\Users\\JOHGNA~1\\AppData\\Local\\Temp/ipykernel_4536/324549445.py:1: FutureWarning: Indexing with multiple keys (implicitly converted to a tuple of keys) will be deprecated, use a list instead.\n",
      "  grupo_bairro['Valor','Condominio'].mean().round(2)\n"
     ]
    },
    {
     "data": {
      "text/html": [
       "<div>\n",
       "<style scoped>\n",
       "    .dataframe tbody tr th:only-of-type {\n",
       "        vertical-align: middle;\n",
       "    }\n",
       "\n",
       "    .dataframe tbody tr th {\n",
       "        vertical-align: top;\n",
       "    }\n",
       "\n",
       "    .dataframe thead th {\n",
       "        text-align: right;\n",
       "    }\n",
       "</style>\n",
       "<table border=\"1\" class=\"dataframe\">\n",
       "  <thead>\n",
       "    <tr style=\"text-align: right;\">\n",
       "      <th></th>\n",
       "      <th>Valor</th>\n",
       "      <th>Condominio</th>\n",
       "    </tr>\n",
       "    <tr>\n",
       "      <th>Bairro</th>\n",
       "      <th></th>\n",
       "      <th></th>\n",
       "    </tr>\n",
       "  </thead>\n",
       "  <tbody>\n",
       "    <tr>\n",
       "      <th>Barra da Tijuca</th>\n",
       "      <td>9015.27</td>\n",
       "      <td>3457.14</td>\n",
       "    </tr>\n",
       "    <tr>\n",
       "      <th>Botafogo</th>\n",
       "      <td>19446.17</td>\n",
       "      <td>2772.20</td>\n",
       "    </tr>\n",
       "    <tr>\n",
       "      <th>Copacabana</th>\n",
       "      <td>4508.42</td>\n",
       "      <td>1140.42</td>\n",
       "    </tr>\n",
       "    <tr>\n",
       "      <th>Flamengo</th>\n",
       "      <td>6923.48</td>\n",
       "      <td>1869.24</td>\n",
       "    </tr>\n",
       "    <tr>\n",
       "      <th>Ipanema</th>\n",
       "      <td>10456.52</td>\n",
       "      <td>2245.37</td>\n",
       "    </tr>\n",
       "    <tr>\n",
       "      <th>Leblon</th>\n",
       "      <td>11052.35</td>\n",
       "      <td>2217.60</td>\n",
       "    </tr>\n",
       "    <tr>\n",
       "      <th>Tijuca</th>\n",
       "      <td>2954.67</td>\n",
       "      <td>784.49</td>\n",
       "    </tr>\n",
       "  </tbody>\n",
       "</table>\n",
       "</div>"
      ],
      "text/plain": [
       "                    Valor  Condominio\n",
       "Bairro                               \n",
       "Barra da Tijuca   9015.27     3457.14\n",
       "Botafogo         19446.17     2772.20\n",
       "Copacabana        4508.42     1140.42\n",
       "Flamengo          6923.48     1869.24\n",
       "Ipanema          10456.52     2245.37\n",
       "Leblon           11052.35     2217.60\n",
       "Tijuca            2954.67      784.49"
      ]
     },
     "execution_count": 9,
     "metadata": {},
     "output_type": "execute_result"
    }
   ],
   "source": [
    "grupo_bairro['Valor','Condominio'].mean().round(2)"
   ]
  },
  {
   "cell_type": "markdown",
   "id": "cfd4d075",
   "metadata": {},
   "source": [
    "# Estastíticas Descritivas"
   ]
  },
  {
   "cell_type": "code",
   "execution_count": 10,
   "id": "c224451d",
   "metadata": {},
   "outputs": [
    {
     "data": {
      "text/html": [
       "<div>\n",
       "<style scoped>\n",
       "    .dataframe tbody tr th:only-of-type {\n",
       "        vertical-align: middle;\n",
       "    }\n",
       "\n",
       "    .dataframe tbody tr th {\n",
       "        vertical-align: top;\n",
       "    }\n",
       "\n",
       "    .dataframe thead th {\n",
       "        text-align: right;\n",
       "    }\n",
       "</style>\n",
       "<table border=\"1\" class=\"dataframe\">\n",
       "  <thead>\n",
       "    <tr style=\"text-align: right;\">\n",
       "      <th></th>\n",
       "      <th>count</th>\n",
       "      <th>mean</th>\n",
       "      <th>std</th>\n",
       "      <th>min</th>\n",
       "      <th>25%</th>\n",
       "      <th>50%</th>\n",
       "      <th>75%</th>\n",
       "      <th>max</th>\n",
       "    </tr>\n",
       "    <tr>\n",
       "      <th>Bairro</th>\n",
       "      <th></th>\n",
       "      <th></th>\n",
       "      <th></th>\n",
       "      <th></th>\n",
       "      <th></th>\n",
       "      <th></th>\n",
       "      <th></th>\n",
       "      <th></th>\n",
       "    </tr>\n",
       "  </thead>\n",
       "  <tbody>\n",
       "    <tr>\n",
       "      <th>Barra da Tijuca</th>\n",
       "      <td>6259.0</td>\n",
       "      <td>9015.27</td>\n",
       "      <td>30185.65</td>\n",
       "      <td>0.0</td>\n",
       "      <td>2000.0</td>\n",
       "      <td>3500.0</td>\n",
       "      <td>8000.0</td>\n",
       "      <td>738197.0</td>\n",
       "    </tr>\n",
       "    <tr>\n",
       "      <th>Botafogo</th>\n",
       "      <td>1377.0</td>\n",
       "      <td>19446.17</td>\n",
       "      <td>128902.14</td>\n",
       "      <td>0.0</td>\n",
       "      <td>2500.0</td>\n",
       "      <td>4000.0</td>\n",
       "      <td>11000.0</td>\n",
       "      <td>4500000.0</td>\n",
       "    </tr>\n",
       "    <tr>\n",
       "      <th>Copacabana</th>\n",
       "      <td>3186.0</td>\n",
       "      <td>4508.42</td>\n",
       "      <td>6412.90</td>\n",
       "      <td>0.0</td>\n",
       "      <td>1900.0</td>\n",
       "      <td>3000.0</td>\n",
       "      <td>4880.0</td>\n",
       "      <td>198000.0</td>\n",
       "    </tr>\n",
       "    <tr>\n",
       "      <th>Flamengo</th>\n",
       "      <td>812.0</td>\n",
       "      <td>6923.48</td>\n",
       "      <td>15767.99</td>\n",
       "      <td>200.0</td>\n",
       "      <td>1900.0</td>\n",
       "      <td>3000.0</td>\n",
       "      <td>5325.0</td>\n",
       "      <td>212544.0</td>\n",
       "    </tr>\n",
       "    <tr>\n",
       "      <th>Ipanema</th>\n",
       "      <td>2233.0</td>\n",
       "      <td>10456.52</td>\n",
       "      <td>20859.22</td>\n",
       "      <td>100.0</td>\n",
       "      <td>4000.0</td>\n",
       "      <td>7000.0</td>\n",
       "      <td>12000.0</td>\n",
       "      <td>800000.0</td>\n",
       "    </tr>\n",
       "    <tr>\n",
       "      <th>Leblon</th>\n",
       "      <td>1478.0</td>\n",
       "      <td>11052.35</td>\n",
       "      <td>20707.09</td>\n",
       "      <td>100.0</td>\n",
       "      <td>4500.0</td>\n",
       "      <td>7000.0</td>\n",
       "      <td>11900.0</td>\n",
       "      <td>430000.0</td>\n",
       "    </tr>\n",
       "    <tr>\n",
       "      <th>Tijuca</th>\n",
       "      <td>1359.0</td>\n",
       "      <td>2954.67</td>\n",
       "      <td>7979.73</td>\n",
       "      <td>320.0</td>\n",
       "      <td>1425.0</td>\n",
       "      <td>1800.0</td>\n",
       "      <td>2499.5</td>\n",
       "      <td>230000.0</td>\n",
       "    </tr>\n",
       "  </tbody>\n",
       "</table>\n",
       "</div>"
      ],
      "text/plain": [
       "                  count      mean        std    min     25%     50%      75%  \\\n",
       "Bairro                                                                         \n",
       "Barra da Tijuca  6259.0   9015.27   30185.65    0.0  2000.0  3500.0   8000.0   \n",
       "Botafogo         1377.0  19446.17  128902.14    0.0  2500.0  4000.0  11000.0   \n",
       "Copacabana       3186.0   4508.42    6412.90    0.0  1900.0  3000.0   4880.0   \n",
       "Flamengo          812.0   6923.48   15767.99  200.0  1900.0  3000.0   5325.0   \n",
       "Ipanema          2233.0  10456.52   20859.22  100.0  4000.0  7000.0  12000.0   \n",
       "Leblon           1478.0  11052.35   20707.09  100.0  4500.0  7000.0  11900.0   \n",
       "Tijuca           1359.0   2954.67    7979.73  320.0  1425.0  1800.0   2499.5   \n",
       "\n",
       "                       max  \n",
       "Bairro                      \n",
       "Barra da Tijuca   738197.0  \n",
       "Botafogo         4500000.0  \n",
       "Copacabana        198000.0  \n",
       "Flamengo          212544.0  \n",
       "Ipanema           800000.0  \n",
       "Leblon            430000.0  \n",
       "Tijuca            230000.0  "
      ]
     },
     "execution_count": 10,
     "metadata": {},
     "output_type": "execute_result"
    }
   ],
   "source": [
    "grupo_bairro['Valor'].describe().round(2)"
   ]
  },
  {
   "cell_type": "code",
   "execution_count": 11,
   "id": "d66f27f3",
   "metadata": {},
   "outputs": [
    {
     "data": {
      "text/html": [
       "<div>\n",
       "<style scoped>\n",
       "    .dataframe tbody tr th:only-of-type {\n",
       "        vertical-align: middle;\n",
       "    }\n",
       "\n",
       "    .dataframe tbody tr th {\n",
       "        vertical-align: top;\n",
       "    }\n",
       "\n",
       "    .dataframe thead th {\n",
       "        text-align: right;\n",
       "    }\n",
       "</style>\n",
       "<table border=\"1\" class=\"dataframe\">\n",
       "  <thead>\n",
       "    <tr style=\"text-align: right;\">\n",
       "      <th></th>\n",
       "      <th>min</th>\n",
       "      <th>max</th>\n",
       "      <th>sum</th>\n",
       "    </tr>\n",
       "    <tr>\n",
       "      <th>Bairro</th>\n",
       "      <th></th>\n",
       "      <th></th>\n",
       "      <th></th>\n",
       "    </tr>\n",
       "  </thead>\n",
       "  <tbody>\n",
       "    <tr>\n",
       "      <th>Barra da Tijuca</th>\n",
       "      <td>0.0</td>\n",
       "      <td>738197.0</td>\n",
       "      <td>56426579.0</td>\n",
       "    </tr>\n",
       "    <tr>\n",
       "      <th>Botafogo</th>\n",
       "      <td>0.0</td>\n",
       "      <td>4500000.0</td>\n",
       "      <td>26777376.0</td>\n",
       "    </tr>\n",
       "    <tr>\n",
       "      <th>Copacabana</th>\n",
       "      <td>0.0</td>\n",
       "      <td>198000.0</td>\n",
       "      <td>14363823.0</td>\n",
       "    </tr>\n",
       "    <tr>\n",
       "      <th>Flamengo</th>\n",
       "      <td>200.0</td>\n",
       "      <td>212544.0</td>\n",
       "      <td>5621869.0</td>\n",
       "    </tr>\n",
       "    <tr>\n",
       "      <th>Ipanema</th>\n",
       "      <td>100.0</td>\n",
       "      <td>800000.0</td>\n",
       "      <td>23349404.0</td>\n",
       "    </tr>\n",
       "    <tr>\n",
       "      <th>Leblon</th>\n",
       "      <td>100.0</td>\n",
       "      <td>430000.0</td>\n",
       "      <td>16335366.0</td>\n",
       "    </tr>\n",
       "    <tr>\n",
       "      <th>Tijuca</th>\n",
       "      <td>320.0</td>\n",
       "      <td>230000.0</td>\n",
       "      <td>4015402.0</td>\n",
       "    </tr>\n",
       "  </tbody>\n",
       "</table>\n",
       "</div>"
      ],
      "text/plain": [
       "                   min        max         sum\n",
       "Bairro                                       \n",
       "Barra da Tijuca    0.0   738197.0  56426579.0\n",
       "Botafogo           0.0  4500000.0  26777376.0\n",
       "Copacabana         0.0   198000.0  14363823.0\n",
       "Flamengo         200.0   212544.0   5621869.0\n",
       "Ipanema          100.0   800000.0  23349404.0\n",
       "Leblon           100.0   430000.0  16335366.0\n",
       "Tijuca           320.0   230000.0   4015402.0"
      ]
     },
     "execution_count": 11,
     "metadata": {},
     "output_type": "execute_result"
    }
   ],
   "source": [
    "grupo_bairro['Valor'].aggregate(['min', 'max','sum'])"
   ]
  },
  {
   "cell_type": "code",
   "execution_count": 12,
   "id": "05bd4cbe",
   "metadata": {},
   "outputs": [],
   "source": [
    "%matplotlib inline\n",
    "import matplotlib.pyplot as plt\n",
    "plt.rc('figure', figsize = (20, 10))"
   ]
  },
  {
   "cell_type": "markdown",
   "id": "a8504902",
   "metadata": {},
   "source": [
    "### Teremos um gráfico em barra, em que podemos identificar a variação atípica no bairro \"Botafogo\". "
   ]
  },
  {
   "cell_type": "code",
   "execution_count": 13,
   "id": "d1ef90e2",
   "metadata": {},
   "outputs": [
    {
     "data": {
      "text/plain": [
       "Text(0.5, 1.0, 'Valor Médio do Aluguel por Bairro')"
      ]
     },
     "execution_count": 13,
     "metadata": {},
     "output_type": "execute_result"
    },
    {
     "data": {
      "image/png": "[encoded data removed]",
      "text/plain": [
       "<Figure size 1440x720 with 1 Axes>"
      ]
     },
     "metadata": {
      "needs_background": "light"
     },
     "output_type": "display_data"
    }
   ],
   "source": [
    "fig = grupo_bairro['Valor'].std().plot.bar(color = 'blue')\n",
    "fig.set_label('valor do Aluguel')\n",
    "fig.set_title('Valor Médio do Aluguel por Bairro', {'fontsize': 22})"
   ]
  },
  {
   "cell_type": "markdown",
   "id": "038ad951",
   "metadata": {},
   "source": [
    "# Frequências de Quartos"
   ]
  },
  {
   "cell_type": "code",
   "execution_count": 14,
   "id": "cda0747f",
   "metadata": {},
   "outputs": [],
   "source": [
    "classes = [0, 2, 4, 6, 100]"
   ]
  },
  {
   "cell_type": "code",
   "execution_count": 15,
   "id": "55b7f9ca",
   "metadata": {},
   "outputs": [],
   "source": [
    "\n",
    "quartos = pd.cut(dados['Quartos'],classes)\n",
    "\n"
   ]
  },
  {
   "cell_type": "code",
   "execution_count": 16,
   "id": "736ddc5a",
   "metadata": {},
   "outputs": [
    {
     "data": {
      "text/plain": [
       "(2, 4]      6346\n",
       "(0, 2]      6049\n",
       "(4, 6]       472\n",
       "(6, 100]      44\n",
       "Name: Quartos, dtype: int64"
      ]
     },
     "execution_count": 16,
     "metadata": {},
     "output_type": "execute_result"
    }
   ],
   "source": [
    "pd.value_counts(quartos)"
   ]
  },
  {
   "cell_type": "code",
   "execution_count": 17,
   "id": "60377af6",
   "metadata": {},
   "outputs": [],
   "source": [
    "labels = ['0 e 2 quartos',\n",
    "          '3 e 4 quartos',\n",
    "          '5 e 6 quartos',\n",
    "          '7 quartos ou mais']"
   ]
  },
  {
   "cell_type": "code",
   "execution_count": 18,
   "id": "b443173d",
   "metadata": {},
   "outputs": [],
   "source": [
    "quartos = pd.cut(dados['Quartos'], classes, labels = labels)\n",
    "freq_quartos = pd.value_counts(quartos)"
   ]
  },
  {
   "cell_type": "code",
   "execution_count": 19,
   "id": "84d1ec0f",
   "metadata": {},
   "outputs": [],
   "source": [
    "tabela = pd.DataFrame(freq_quartos)\n"
   ]
  },
  {
   "cell_type": "code",
   "execution_count": 20,
   "id": "5c1dfc9d",
   "metadata": {},
   "outputs": [
    {
     "data": {
      "text/html": [
       "<div>\n",
       "<style scoped>\n",
       "    .dataframe tbody tr th:only-of-type {\n",
       "        vertical-align: middle;\n",
       "    }\n",
       "\n",
       "    .dataframe tbody tr th {\n",
       "        vertical-align: top;\n",
       "    }\n",
       "\n",
       "    .dataframe thead th {\n",
       "        text-align: right;\n",
       "    }\n",
       "</style>\n",
       "<table border=\"1\" class=\"dataframe\">\n",
       "  <thead>\n",
       "    <tr style=\"text-align: right;\">\n",
       "      <th>Faixa de Quartos</th>\n",
       "      <th>Quartos</th>\n",
       "    </tr>\n",
       "  </thead>\n",
       "  <tbody>\n",
       "    <tr>\n",
       "      <th>0 e 2 quartos</th>\n",
       "      <td>6049</td>\n",
       "    </tr>\n",
       "    <tr>\n",
       "      <th>3 e 4 quartos</th>\n",
       "      <td>6346</td>\n",
       "    </tr>\n",
       "    <tr>\n",
       "      <th>5 e 6 quartos</th>\n",
       "      <td>472</td>\n",
       "    </tr>\n",
       "    <tr>\n",
       "      <th>7 quartos ou mais</th>\n",
       "      <td>44</td>\n",
       "    </tr>\n",
       "  </tbody>\n",
       "</table>\n",
       "</div>"
      ],
      "text/plain": [
       "Faixa de Quartos   Quartos\n",
       "0 e 2 quartos         6049\n",
       "3 e 4 quartos         6346\n",
       "5 e 6 quartos          472\n",
       "7 quartos ou mais       44"
      ]
     },
     "execution_count": 20,
     "metadata": {},
     "output_type": "execute_result"
    }
   ],
   "source": [
    "tabela.sort_values(by = 'Quartos', ascending = False)\n",
    "tabela.columns.name = 'Faixa de Quartos'\n",
    "tabela.sort_index(inplace=True)\n",
    "tabela"
   ]
  }
 ],
 "metadata": {
  "kernelspec": {
   "display_name": "Python 3 (ipykernel)",
   "language": "python",
   "name": "python3"
  },
  "language_info": {
   "codemirror_mode": {
    "name": "ipython",
    "version": 3
   },
   "file_extension": ".py",
   "mimetype": "text/x-python",
   "name": "python",
   "nbconvert_exporter": "python",
   "pygments_lexer": "ipython3",
   "version": "3.9.7"
  }
 },
 "nbformat": 4,
 "nbformat_minor": 5
}
